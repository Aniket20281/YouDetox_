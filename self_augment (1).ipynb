{
  "nbformat": 4,
  "nbformat_minor": 0,
  "metadata": {
    "colab": {
      "provenance": []
    },
    "kernelspec": {
      "name": "python3",
      "display_name": "Python 3"
    },
    "language_info": {
      "name": "python"
    }
  },
  "cells": [
    {
      "cell_type": "code",
      "source": [
        "from google.colab import files\n",
        "uploaded = files.upload()"
      ],
      "metadata": {
        "colab": {
          "base_uri": "https://localhost:8080/",
          "height": 73
        },
        "id": "VmMSOZxN_4ph",
        "outputId": "f766cdf7-a99b-45ee-b11d-098b69593163"
      },
      "execution_count": null,
      "outputs": [
        {
          "output_type": "display_data",
          "data": {
            "text/plain": [
              "<IPython.core.display.HTML object>"
            ],
            "text/html": [
              "\n",
              "     <input type=\"file\" id=\"files-cb04ccb2-935e-4f5e-84d6-067697880efe\" name=\"files[]\" multiple disabled\n",
              "        style=\"border:none\" />\n",
              "     <output id=\"result-cb04ccb2-935e-4f5e-84d6-067697880efe\">\n",
              "      Upload widget is only available when the cell has been executed in the\n",
              "      current browser session. Please rerun this cell to enable.\n",
              "      </output>\n",
              "      <script>// Copyright 2017 Google LLC\n",
              "//\n",
              "// Licensed under the Apache License, Version 2.0 (the \"License\");\n",
              "// you may not use this file except in compliance with the License.\n",
              "// You may obtain a copy of the License at\n",
              "//\n",
              "//      http://www.apache.org/licenses/LICENSE-2.0\n",
              "//\n",
              "// Unless required by applicable law or agreed to in writing, software\n",
              "// distributed under the License is distributed on an \"AS IS\" BASIS,\n",
              "// WITHOUT WARRANTIES OR CONDITIONS OF ANY KIND, either express or implied.\n",
              "// See the License for the specific language governing permissions and\n",
              "// limitations under the License.\n",
              "\n",
              "/**\n",
              " * @fileoverview Helpers for google.colab Python module.\n",
              " */\n",
              "(function(scope) {\n",
              "function span(text, styleAttributes = {}) {\n",
              "  const element = document.createElement('span');\n",
              "  element.textContent = text;\n",
              "  for (const key of Object.keys(styleAttributes)) {\n",
              "    element.style[key] = styleAttributes[key];\n",
              "  }\n",
              "  return element;\n",
              "}\n",
              "\n",
              "// Max number of bytes which will be uploaded at a time.\n",
              "const MAX_PAYLOAD_SIZE = 100 * 1024;\n",
              "\n",
              "function _uploadFiles(inputId, outputId) {\n",
              "  const steps = uploadFilesStep(inputId, outputId);\n",
              "  const outputElement = document.getElementById(outputId);\n",
              "  // Cache steps on the outputElement to make it available for the next call\n",
              "  // to uploadFilesContinue from Python.\n",
              "  outputElement.steps = steps;\n",
              "\n",
              "  return _uploadFilesContinue(outputId);\n",
              "}\n",
              "\n",
              "// This is roughly an async generator (not supported in the browser yet),\n",
              "// where there are multiple asynchronous steps and the Python side is going\n",
              "// to poll for completion of each step.\n",
              "// This uses a Promise to block the python side on completion of each step,\n",
              "// then passes the result of the previous step as the input to the next step.\n",
              "function _uploadFilesContinue(outputId) {\n",
              "  const outputElement = document.getElementById(outputId);\n",
              "  const steps = outputElement.steps;\n",
              "\n",
              "  const next = steps.next(outputElement.lastPromiseValue);\n",
              "  return Promise.resolve(next.value.promise).then((value) => {\n",
              "    // Cache the last promise value to make it available to the next\n",
              "    // step of the generator.\n",
              "    outputElement.lastPromiseValue = value;\n",
              "    return next.value.response;\n",
              "  });\n",
              "}\n",
              "\n",
              "/**\n",
              " * Generator function which is called between each async step of the upload\n",
              " * process.\n",
              " * @param {string} inputId Element ID of the input file picker element.\n",
              " * @param {string} outputId Element ID of the output display.\n",
              " * @return {!Iterable<!Object>} Iterable of next steps.\n",
              " */\n",
              "function* uploadFilesStep(inputId, outputId) {\n",
              "  const inputElement = document.getElementById(inputId);\n",
              "  inputElement.disabled = false;\n",
              "\n",
              "  const outputElement = document.getElementById(outputId);\n",
              "  outputElement.innerHTML = '';\n",
              "\n",
              "  const pickedPromise = new Promise((resolve) => {\n",
              "    inputElement.addEventListener('change', (e) => {\n",
              "      resolve(e.target.files);\n",
              "    });\n",
              "  });\n",
              "\n",
              "  const cancel = document.createElement('button');\n",
              "  inputElement.parentElement.appendChild(cancel);\n",
              "  cancel.textContent = 'Cancel upload';\n",
              "  const cancelPromise = new Promise((resolve) => {\n",
              "    cancel.onclick = () => {\n",
              "      resolve(null);\n",
              "    };\n",
              "  });\n",
              "\n",
              "  // Wait for the user to pick the files.\n",
              "  const files = yield {\n",
              "    promise: Promise.race([pickedPromise, cancelPromise]),\n",
              "    response: {\n",
              "      action: 'starting',\n",
              "    }\n",
              "  };\n",
              "\n",
              "  cancel.remove();\n",
              "\n",
              "  // Disable the input element since further picks are not allowed.\n",
              "  inputElement.disabled = true;\n",
              "\n",
              "  if (!files) {\n",
              "    return {\n",
              "      response: {\n",
              "        action: 'complete',\n",
              "      }\n",
              "    };\n",
              "  }\n",
              "\n",
              "  for (const file of files) {\n",
              "    const li = document.createElement('li');\n",
              "    li.append(span(file.name, {fontWeight: 'bold'}));\n",
              "    li.append(span(\n",
              "        `(${file.type || 'n/a'}) - ${file.size} bytes, ` +\n",
              "        `last modified: ${\n",
              "            file.lastModifiedDate ? file.lastModifiedDate.toLocaleDateString() :\n",
              "                                    'n/a'} - `));\n",
              "    const percent = span('0% done');\n",
              "    li.appendChild(percent);\n",
              "\n",
              "    outputElement.appendChild(li);\n",
              "\n",
              "    const fileDataPromise = new Promise((resolve) => {\n",
              "      const reader = new FileReader();\n",
              "      reader.onload = (e) => {\n",
              "        resolve(e.target.result);\n",
              "      };\n",
              "      reader.readAsArrayBuffer(file);\n",
              "    });\n",
              "    // Wait for the data to be ready.\n",
              "    let fileData = yield {\n",
              "      promise: fileDataPromise,\n",
              "      response: {\n",
              "        action: 'continue',\n",
              "      }\n",
              "    };\n",
              "\n",
              "    // Use a chunked sending to avoid message size limits. See b/62115660.\n",
              "    let position = 0;\n",
              "    do {\n",
              "      const length = Math.min(fileData.byteLength - position, MAX_PAYLOAD_SIZE);\n",
              "      const chunk = new Uint8Array(fileData, position, length);\n",
              "      position += length;\n",
              "\n",
              "      const base64 = btoa(String.fromCharCode.apply(null, chunk));\n",
              "      yield {\n",
              "        response: {\n",
              "          action: 'append',\n",
              "          file: file.name,\n",
              "          data: base64,\n",
              "        },\n",
              "      };\n",
              "\n",
              "      let percentDone = fileData.byteLength === 0 ?\n",
              "          100 :\n",
              "          Math.round((position / fileData.byteLength) * 100);\n",
              "      percent.textContent = `${percentDone}% done`;\n",
              "\n",
              "    } while (position < fileData.byteLength);\n",
              "  }\n",
              "\n",
              "  // All done.\n",
              "  yield {\n",
              "    response: {\n",
              "      action: 'complete',\n",
              "    }\n",
              "  };\n",
              "}\n",
              "\n",
              "scope.google = scope.google || {};\n",
              "scope.google.colab = scope.google.colab || {};\n",
              "scope.google.colab._files = {\n",
              "  _uploadFiles,\n",
              "  _uploadFilesContinue,\n",
              "};\n",
              "})(self);\n",
              "</script> "
            ]
          },
          "metadata": {}
        },
        {
          "output_type": "stream",
          "name": "stdout",
          "text": [
            "Saving out.csv to out.csv\n"
          ]
        }
      ]
    },
    {
      "cell_type": "code",
      "source": [
        "from sklearn.model_selection import train_test_split\n",
        "import pandas as pd\n",
        "import numpy as np\n",
        "from sklearn.feature_extraction.text import CountVectorizer\n",
        "from sklearn.model_selection import train_test_split\n",
        "from sklearn.svm import SVC\n",
        "from sklearn.linear_model import LogisticRegression\n",
        "from sklearn.ensemble import RandomForestClassifier\n",
        "from sklearn.metrics import accuracy_score\n",
        "from sklearn.preprocessing import PowerTransformer\n",
        "from sklearn.model_selection import GridSearchCV\n",
        "from sklearn.model_selection import RepeatedStratifiedKFold\n",
        "from sklearn.tree import DecisionTreeClassifier\n",
        "from sklearn.naive_bayes import MultinomialNB\n",
        "from sklearn.naive_bayes import GaussianNB\n",
        "from sklearn.model_selection import RandomizedSearchCV\n",
        "from sklearn.feature_extraction.text import TfidfVectorizer\n",
        "from nltk.stem import WordNetLemmatizer\n",
        "import re"
      ],
      "metadata": {
        "id": "ZvNh3f8jrOJB"
      },
      "execution_count": null,
      "outputs": []
    },
    {
      "cell_type": "code",
      "source": [
        "!pip install translators"
      ],
      "metadata": {
        "colab": {
          "base_uri": "https://localhost:8080/"
        },
        "id": "oVBhULWvRlnN",
        "outputId": "e4e1ed7e-2adc-489f-af04-a20b04ef4b95"
      },
      "execution_count": null,
      "outputs": [
        {
          "output_type": "stream",
          "name": "stdout",
          "text": [
            "Looking in indexes: https://pypi.org/simple, https://us-python.pkg.dev/colab-wheels/public/simple/\n",
            "Requirement already satisfied: translators in /usr/local/lib/python3.8/dist-packages (5.5.0)\n",
            "Requirement already satisfied: requests>=2.28.1 in /usr/local/lib/python3.8/dist-packages (from translators) (2.28.1)\n",
            "Requirement already satisfied: PyExecJS>=1.5.1 in /usr/local/lib/python3.8/dist-packages (from translators) (1.5.1)\n",
            "Requirement already satisfied: cryptography>=38.0.1 in /usr/local/lib/python3.8/dist-packages (from translators) (38.0.4)\n",
            "Requirement already satisfied: pathos>=0.2.9 in /usr/local/lib/python3.8/dist-packages (from translators) (0.3.0)\n",
            "Requirement already satisfied: lxml>=4.9.1 in /usr/local/lib/python3.8/dist-packages (from translators) (4.9.1)\n",
            "Requirement already satisfied: cffi>=1.12 in /usr/local/lib/python3.8/dist-packages (from cryptography>=38.0.1->translators) (1.15.1)\n",
            "Requirement already satisfied: pycparser in /usr/local/lib/python3.8/dist-packages (from cffi>=1.12->cryptography>=38.0.1->translators) (2.21)\n",
            "Requirement already satisfied: dill>=0.3.6 in /usr/local/lib/python3.8/dist-packages (from pathos>=0.2.9->translators) (0.3.6)\n",
            "Requirement already satisfied: pox>=0.3.2 in /usr/local/lib/python3.8/dist-packages (from pathos>=0.2.9->translators) (0.3.2)\n",
            "Requirement already satisfied: multiprocess>=0.70.14 in /usr/local/lib/python3.8/dist-packages (from pathos>=0.2.9->translators) (0.70.14)\n",
            "Requirement already satisfied: ppft>=1.7.6.6 in /usr/local/lib/python3.8/dist-packages (from pathos>=0.2.9->translators) (1.7.6.6)\n",
            "Requirement already satisfied: six>=1.10.0 in /usr/local/lib/python3.8/dist-packages (from PyExecJS>=1.5.1->translators) (1.15.0)\n",
            "Requirement already satisfied: certifi>=2017.4.17 in /usr/local/lib/python3.8/dist-packages (from requests>=2.28.1->translators) (2022.9.24)\n",
            "Requirement already satisfied: idna<4,>=2.5 in /usr/local/lib/python3.8/dist-packages (from requests>=2.28.1->translators) (2.10)\n",
            "Requirement already satisfied: charset-normalizer<3,>=2 in /usr/local/lib/python3.8/dist-packages (from requests>=2.28.1->translators) (2.1.1)\n",
            "Requirement already satisfied: urllib3<1.27,>=1.21.1 in /usr/local/lib/python3.8/dist-packages (from requests>=2.28.1->translators) (1.24.3)\n"
          ]
        }
      ]
    },
    {
      "cell_type": "code",
      "source": [
        "import translators as ts\n",
        "ts.google"
      ],
      "metadata": {
        "colab": {
          "base_uri": "https://localhost:8080/"
        },
        "id": "JfswgVsqRur7",
        "outputId": "8d7e7d01-da26-4eb4-d01f-949d53335e2e"
      },
      "execution_count": null,
      "outputs": [
        {
          "output_type": "execute_result",
          "data": {
            "text/plain": [
              "<bound method GoogleV2.google_api of <translators.servers.GoogleV2 object at 0x7f944e465df0>>"
            ]
          },
          "metadata": {},
          "execution_count": 5
        }
      ]
    },
    {
      "cell_type": "code",
      "source": [
        "ts._google.language_map"
      ],
      "metadata": {
        "id": "TWAKmrM9R5io"
      },
      "execution_count": null,
      "outputs": []
    },
    {
      "cell_type": "code",
      "source": [
        "import pandas as pd\n",
        "data = pd.read_csv('out.csv')"
      ],
      "metadata": {
        "id": "eOGPmanLALmw"
      },
      "execution_count": null,
      "outputs": []
    },
    {
      "cell_type": "code",
      "source": [
        "for i in range(987,1000):\n",
        "    text = data[\"LEMM\"].iloc[i]\n",
        "\n",
        "    hindi_text = ts.google(text , from_language = \"en\" , to_language = \"hi\")\n",
        "    english_text = ts.google(hindi_text , from_language = \"hi\" , to_language = \"en\")\n",
        "\n",
        "    temp=english_text\n",
        "    synthesised = {\n",
        "                    \"IsToxic\":data[\"IsToxic\"].iloc[i],\n",
        "                    \"IsAbusive\":data[\"IsAbusive\"].iloc[i],\n",
        "                    \"IsThreat\":data[\"IsThreat\"].iloc[i],\n",
        "                    \"IsProvocative\":data[\"IsProvocative\"].iloc[i],\n",
        "                    \"IsObscene\":data[\"IsObscene\"].iloc[i],\n",
        "                    \"IsHatespeech\":data[\"IsHatespeech\"].iloc[i],\n",
        "                    \"IsRacist\":data[\"IsRacist\"].iloc[i],\n",
        "                    \"IsNationalist\":data[\"IsNationalist\"].iloc[i],\n",
        "                    \"IsSexist\":data[\"IsSexist\"].iloc[i],\n",
        "                    \"IsReligiousHate\":data[\"IsReligiousHate\"].iloc[i],\n",
        "                    \"LEMM\":temp\n",
        "                    }\n",
        "    print(\"currently at index \", i)\n",
        "    print(english_text)\n",
        "    data = data.append(synthesised,ignore_index = True)"
      ],
      "metadata": {
        "colab": {
          "base_uri": "https://localhost:8080/"
        },
        "id": "6EN4Q-LH_cyY",
        "outputId": "84ecb277-57ba-4b11-8f0c-70cd458e3bd5"
      },
      "execution_count": null,
      "outputs": [
        {
          "output_type": "stream",
          "name": "stdout",
          "text": [
            "currently at index  987\n",
            "I Kala ... I almost shot the police many years ago ... I am friend, party, even illegal drug use cars ... even notice the police car .... Prakash It was enforced .... panicked ... Cop Bright Light You ... trying to hide the drug .... I was hearing that I can be tried to tell the police that I can hide the drug Keep trying .... The course saw that I am going to the center console, maybe get a gun? ... I told loudly ... Stop, get the hands. मैं बताता हूं कि मैं बिल्कुल बताता हूं ..... अगर मैंने नहीं सुना तो मैं गोली मारता हूं ... संभवतः सिर .... मैं समझता हूं कि कोई भी पुलिस को बताता है ... कहो `` हाथ डाल दिया `` Keep your hands up! Tell you step back '' step back '! If you are threatened by you, then you will be shot! Nothing color.\n",
            "currently at index  988\n",
            "Why people hate….\n",
            "currently at index  989\n",
            "Tuff\n",
            "currently at index  990\n",
            "Remember .. Michael Brown Young, Teen Boy, Linerbacker was made like the facility store was looted .. The column community. http: //www.liveleak.com/view? = 464_1408123040\n",
            "currently at index  991\n",
            "What a point is trying to create? Does black ' , Has Ferguson incorrectly treated law enforcement to black people - suggesting that Biding Citizen Break Law of Black Community Law Le White people Cop Arrest Black Citizen Fun Sport? , Is the right reason that the black community looting riot? Also asked? Did the riot robbing break noxville young white couple kidnap, cruelly wrapped, eventually killed a black male woman? I wonder racism simple stupidity? Mr. Brown Angel, study facts stay away\n",
            "currently at index  992\n",
            "Many disgusting people comment that accidental racism is rationalizing the context of poor understanding\n",
            "currently at index  993\n",
            "Let the white go- Ferguson, let's see well! East St. Louis, Detroit, Baltimore Thing saw the city! Tu\n",
            "currently at index  994\n",
            "I already got Channel One FAVS. .. Thanks u vids r excellent.\n",
            "currently at index  995\n",
            "I remember national defense sent\n",
            "currently at index  996\n",
            "Statistics represent the problem. Race batting attitude. Who is the crime? Oh, I bet that Travon is still a little innocent boy. Don `` Say Lisp, sure Sign Left Wing Democrat!\n",
            "currently at index  997\n",
            "Quote mother ... Wow tight collision. Absolutely right .\n",
            "currently at index  998\n",
            "Video racist\n",
            "currently at index  999\n",
            "God, the storyteller annoying Lisp.\n"
          ]
        }
      ]
    },
    {
      "cell_type": "code",
      "source": [
        "data.shape"
      ],
      "metadata": {
        "colab": {
          "base_uri": "https://localhost:8080/"
        },
        "id": "lV2ulV3KAVal",
        "outputId": "387940d8-4064-455d-9d2e-6606e7459188"
      },
      "execution_count": null,
      "outputs": [
        {
          "output_type": "execute_result",
          "data": {
            "text/plain": [
              "(2000, 12)"
            ]
          },
          "metadata": {},
          "execution_count": 47
        }
      ]
    },
    {
      "cell_type": "code",
      "source": [
        "def check_LR(data):\n",
        "    raw = data.iloc[0:1000,:]\n",
        "    aug = data.iloc[1000:,:]\n",
        "\n",
        "    Y_raw = raw['IsToxic']\n",
        "    X_raw = raw['LEMM']\n",
        "    Y_aug = aug['IsToxic']\n",
        "    X_aug = aug['LEMM']\n",
        "\n",
        "    X_train_temp, X_test_temp, Y_train_temp , Y_test_temp = train_test_split(X_raw,Y_raw)\n",
        "\n",
        "    X_test = X_test_temp\n",
        "    Y_test = Y_test_temp\n",
        "\n",
        "    X_aug = np.concatenate((X_aug , X_train_temp))\n",
        "    Y_aug = np.concatenate((Y_aug , Y_train_temp))\n",
        "\n",
        "    Y_train = Y_aug\n",
        "    X_train_bow = X_aug\n",
        "    X_test_bow = X_test\n",
        "    Y_test = Y_test\n",
        "\n",
        "    vectorizer = CountVectorizer()\n",
        "    vectorizer.fit(X_train_bow)\n",
        "    X_train_bow = vectorizer.transform(X_train_bow)\n",
        "    X_test_bow = vectorizer.transform(X_test_bow)\n",
        "\n",
        "    X_train_bow = X_train_bow.toarray()\n",
        "    # Y_train = Y_train.to_numpy()\n",
        "    X_test_bow = X_test_bow.toarray()\n",
        "    Y_test = Y_test.to_numpy() \n",
        "\n",
        "    clf = LogisticRegression()\n",
        "    clf.fit(X_train_bow , Y_train)\n",
        "\n",
        "    y_pred = clf.predict(X_test_bow)\n",
        "    score = accuracy_score(y_pred , Y_test)\n",
        "\n",
        "    return score"
      ],
      "metadata": {
        "id": "GOxd4omLUOVU"
      },
      "execution_count": null,
      "outputs": []
    },
    {
      "cell_type": "code",
      "source": [
        "data.to_csv('self_aug.csv')\n",
        "files.download('self_aug.csv')"
      ],
      "metadata": {
        "id": "x0l774PaAvB-",
        "colab": {
          "base_uri": "https://localhost:8080/",
          "height": 17
        },
        "outputId": "4f6526e4-5335-4f08-83e6-cfb6e39ed0e2"
      },
      "execution_count": null,
      "outputs": [
        {
          "output_type": "display_data",
          "data": {
            "text/plain": [
              "<IPython.core.display.Javascript object>"
            ],
            "application/javascript": [
              "\n",
              "    async function download(id, filename, size) {\n",
              "      if (!google.colab.kernel.accessAllowed) {\n",
              "        return;\n",
              "      }\n",
              "      const div = document.createElement('div');\n",
              "      const label = document.createElement('label');\n",
              "      label.textContent = `Downloading \"${filename}\": `;\n",
              "      div.appendChild(label);\n",
              "      const progress = document.createElement('progress');\n",
              "      progress.max = size;\n",
              "      div.appendChild(progress);\n",
              "      document.body.appendChild(div);\n",
              "\n",
              "      const buffers = [];\n",
              "      let downloaded = 0;\n",
              "\n",
              "      const channel = await google.colab.kernel.comms.open(id);\n",
              "      // Send a message to notify the kernel that we're ready.\n",
              "      channel.send({})\n",
              "\n",
              "      for await (const message of channel.messages) {\n",
              "        // Send a message to notify the kernel that we're ready.\n",
              "        channel.send({})\n",
              "        if (message.buffers) {\n",
              "          for (const buffer of message.buffers) {\n",
              "            buffers.push(buffer);\n",
              "            downloaded += buffer.byteLength;\n",
              "            progress.value = downloaded;\n",
              "          }\n",
              "        }\n",
              "      }\n",
              "      const blob = new Blob(buffers, {type: 'application/binary'});\n",
              "      const a = document.createElement('a');\n",
              "      a.href = window.URL.createObjectURL(blob);\n",
              "      a.download = filename;\n",
              "      div.appendChild(a);\n",
              "      a.click();\n",
              "      div.remove();\n",
              "    }\n",
              "  "
            ]
          },
          "metadata": {}
        },
        {
          "output_type": "display_data",
          "data": {
            "text/plain": [
              "<IPython.core.display.Javascript object>"
            ],
            "application/javascript": [
              "download(\"download_041967f6-361b-4aff-b91c-1b19adf479f5\", \"self_aug.csv\", 393645)"
            ]
          },
          "metadata": {}
        }
      ]
    },
    {
      "cell_type": "code",
      "source": [
        "sc = check_LR(data)"
      ],
      "metadata": {
        "id": "muU8HmVsCPbW"
      },
      "execution_count": null,
      "outputs": []
    },
    {
      "cell_type": "code",
      "source": [
        "sc"
      ],
      "metadata": {
        "colab": {
          "base_uri": "https://localhost:8080/"
        },
        "id": "Oq7uiE23rLGr",
        "outputId": "58ad2bd1-7104-4a88-ef8e-662312ba67c9"
      },
      "execution_count": null,
      "outputs": [
        {
          "output_type": "execute_result",
          "data": {
            "text/plain": [
              "0.888"
            ]
          },
          "metadata": {},
          "execution_count": 60
        }
      ]
    }
  ]
}